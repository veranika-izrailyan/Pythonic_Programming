{
  "nbformat": 4,
  "nbformat_minor": 0,
  "metadata": {
    "colab": {
      "name": "MetaProgramming.ipynb",
      "provenance": [],
      "authorship_tag": "ABX9TyPj657MVvONqRPd+ouPXnmA",
      "include_colab_link": true
    },
    "kernelspec": {
      "name": "python3",
      "display_name": "Python 3"
    },
    "language_info": {
      "name": "python"
    }
  },
  "cells": [
    {
      "cell_type": "markdown",
      "metadata": {
        "id": "view-in-github",
        "colab_type": "text"
      },
      "source": [
        "<a href=\"https://colab.research.google.com/github/veranika-izrailyan/pythonic-programming/blob/main/MetaProgramming.ipynb\" target=\"_parent\"><img src=\"https://colab.research.google.com/assets/colab-badge.svg\" alt=\"Open In Colab\"/></a>"
      ]
    },
    {
      "cell_type": "code",
      "execution_count": 6,
      "metadata": {
        "colab": {
          "base_uri": "https://localhost:8080/"
        },
        "id": "A5WLbGBqCKh_",
        "outputId": "b44e3145-d61a-410f-9e59-f48e28ccd471"
      },
      "outputs": [
        {
          "output_type": "stream",
          "name": "stdout",
          "text": [
            "Globals:\n",
            "{'__name__': '__main__', '__doc__': 'Automatically created module for IPython interactive environment', '__package__': None, '__loader__': None, '__spec__': None, '__builtin__': <module 'builtins' (built-in)>, '__builtins__': <module 'builtins' (built-in)>, '_ih': ['', \"from pprint import print\\n\\nspam = 42\\nham='Smithfield'\\n\\ndef eggs(fruit):\\n  name='Lancelot'\\n  idiom='Some idiom'\\n  print('Globals:')\\n  print(globals())\\n  print()\\n  print('Locals:')\\n  print(locals())\", \"from pprint import pprint\\n\\nspam = 42\\nham='Smithfield'\\n\\ndef eggs(fruit):\\n  name='Lancelot'\\n  idiom='Some idiom'\\n  print('Globals:')\\n  print(globals())\\n  print()\\n  print('Locals:')\\n  print(locals())\", \"from pprint import pprint\\n\\nspam = 42\\nham='Smithfield'\\n\\ndef eggs(fruit):\\n  name='Lancelot'\\n  idiom='Some idiom'\\n  print('Globals:')\\n  print(globals())\\n  print()\\n  print('Locals:')\\n  print(locals())\\n\\neggs('some eggs pls')\", \"from pprint import pprint\\n\\nspam = 42\\nham='Smithfield'\\n\\ndef eggs(fruit):\\n  name='Lancelot'\\n  idiom='Some idiom'\\n  print('Globals:')\\n  print(globals(), end=' ')\\n  print()\\n  print('Locals:')\\n  print(locals())\\n\\neggs('some eggs pls')\", \"from pprint import pprint\\n\\nspam = 42\\nham='Smithfield'\\n\\ndef eggs(fruit):\\n  name='Lancelot'\\n  idiom='Some idiom'\\n  print('Globals:')\\n  print(globals(), end='')\\n  print()\\n  print('Locals:')\\n  print(locals())\\n\\neggs('some eggs pls')\", \"from pprint import pprint\\n\\nspam = 42\\nham='Smithfield'\\n\\ndef eggs(fruit):\\n  name='Lancelot'\\n  idiom='Some idiom'\\n  print('Globals:')\\n  print(globals())\\n  print()\\n  print('Locals:')\\n  print(locals())\\n\\neggs('some eggs pls')\"], '_oh': {}, '_dh': ['/content'], '_sh': <module 'IPython.core.shadowns' from '/usr/local/lib/python3.7/dist-packages/IPython/core/shadowns.py'>, 'In': ['', \"from pprint import print\\n\\nspam = 42\\nham='Smithfield'\\n\\ndef eggs(fruit):\\n  name='Lancelot'\\n  idiom='Some idiom'\\n  print('Globals:')\\n  print(globals())\\n  print()\\n  print('Locals:')\\n  print(locals())\", \"from pprint import pprint\\n\\nspam = 42\\nham='Smithfield'\\n\\ndef eggs(fruit):\\n  name='Lancelot'\\n  idiom='Some idiom'\\n  print('Globals:')\\n  print(globals())\\n  print()\\n  print('Locals:')\\n  print(locals())\", \"from pprint import pprint\\n\\nspam = 42\\nham='Smithfield'\\n\\ndef eggs(fruit):\\n  name='Lancelot'\\n  idiom='Some idiom'\\n  print('Globals:')\\n  print(globals())\\n  print()\\n  print('Locals:')\\n  print(locals())\\n\\neggs('some eggs pls')\", \"from pprint import pprint\\n\\nspam = 42\\nham='Smithfield'\\n\\ndef eggs(fruit):\\n  name='Lancelot'\\n  idiom='Some idiom'\\n  print('Globals:')\\n  print(globals(), end=' ')\\n  print()\\n  print('Locals:')\\n  print(locals())\\n\\neggs('some eggs pls')\", \"from pprint import pprint\\n\\nspam = 42\\nham='Smithfield'\\n\\ndef eggs(fruit):\\n  name='Lancelot'\\n  idiom='Some idiom'\\n  print('Globals:')\\n  print(globals(), end='')\\n  print()\\n  print('Locals:')\\n  print(locals())\\n\\neggs('some eggs pls')\", \"from pprint import pprint\\n\\nspam = 42\\nham='Smithfield'\\n\\ndef eggs(fruit):\\n  name='Lancelot'\\n  idiom='Some idiom'\\n  print('Globals:')\\n  print(globals())\\n  print()\\n  print('Locals:')\\n  print(locals())\\n\\neggs('some eggs pls')\"], 'Out': {}, 'get_ipython': <bound method InteractiveShell.get_ipython of <google.colab._shell.Shell object at 0x7f7fb5439b90>>, 'exit': <IPython.core.autocall.ZMQExitAutocall object at 0x7f7fb51ecf50>, 'quit': <IPython.core.autocall.ZMQExitAutocall object at 0x7f7fb51ecf50>, '_': '', '__': '', '___': '', '_i': \"from pprint import pprint\\n\\nspam = 42\\nham='Smithfield'\\n\\ndef eggs(fruit):\\n  name='Lancelot'\\n  idiom='Some idiom'\\n  print('Globals:')\\n  print(globals(), end='')\\n  print()\\n  print('Locals:')\\n  print(locals())\\n\\neggs('some eggs pls')\", '_ii': \"from pprint import pprint\\n\\nspam = 42\\nham='Smithfield'\\n\\ndef eggs(fruit):\\n  name='Lancelot'\\n  idiom='Some idiom'\\n  print('Globals:')\\n  print(globals(), end=' ')\\n  print()\\n  print('Locals:')\\n  print(locals())\\n\\neggs('some eggs pls')\", '_iii': \"from pprint import pprint\\n\\nspam = 42\\nham='Smithfield'\\n\\ndef eggs(fruit):\\n  name='Lancelot'\\n  idiom='Some idiom'\\n  print('Globals:')\\n  print(globals())\\n  print()\\n  print('Locals:')\\n  print(locals())\\n\\neggs('some eggs pls')\", '_i1': \"from pprint import print\\n\\nspam = 42\\nham='Smithfield'\\n\\ndef eggs(fruit):\\n  name='Lancelot'\\n  idiom='Some idiom'\\n  print('Globals:')\\n  print(globals())\\n  print()\\n  print('Locals:')\\n  print(locals())\", '_i2': \"from pprint import pprint\\n\\nspam = 42\\nham='Smithfield'\\n\\ndef eggs(fruit):\\n  name='Lancelot'\\n  idiom='Some idiom'\\n  print('Globals:')\\n  print(globals())\\n  print()\\n  print('Locals:')\\n  print(locals())\", 'pprint': <function pprint at 0x7f7fd0ad20e0>, 'spam': 42, 'ham': 'Smithfield', 'eggs': <function eggs at 0x7f7fab9bde60>, '_i3': \"from pprint import pprint\\n\\nspam = 42\\nham='Smithfield'\\n\\ndef eggs(fruit):\\n  name='Lancelot'\\n  idiom='Some idiom'\\n  print('Globals:')\\n  print(globals())\\n  print()\\n  print('Locals:')\\n  print(locals())\\n\\neggs('some eggs pls')\", '_i4': \"from pprint import pprint\\n\\nspam = 42\\nham='Smithfield'\\n\\ndef eggs(fruit):\\n  name='Lancelot'\\n  idiom='Some idiom'\\n  print('Globals:')\\n  print(globals(), end=' ')\\n  print()\\n  print('Locals:')\\n  print(locals())\\n\\neggs('some eggs pls')\", '_i5': \"from pprint import pprint\\n\\nspam = 42\\nham='Smithfield'\\n\\ndef eggs(fruit):\\n  name='Lancelot'\\n  idiom='Some idiom'\\n  print('Globals:')\\n  print(globals(), end='')\\n  print()\\n  print('Locals:')\\n  print(locals())\\n\\neggs('some eggs pls')\", '_i6': \"from pprint import pprint\\n\\nspam = 42\\nham='Smithfield'\\n\\ndef eggs(fruit):\\n  name='Lancelot'\\n  idiom='Some idiom'\\n  print('Globals:')\\n  print(globals())\\n  print()\\n  print('Locals:')\\n  print(locals())\\n\\neggs('some eggs pls')\"}\n",
            "\n",
            "Locals:\n",
            "{'fruit': 'some eggs pls', 'name': 'Lancelot', 'idiom': 'Some idiom'}\n"
          ]
        }
      ],
      "source": [
        "from pprint import pprint\n",
        "\n",
        "spam = 42\n",
        "ham='Smithfield'\n",
        "\n",
        "def eggs(fruit):\n",
        "  name='Lancelot'\n",
        "  idiom='Some idiom'\n",
        "  print('Globals:')\n",
        "  print(globals())\n",
        "  print()\n",
        "  print('Locals:')\n",
        "  print(locals())\n",
        "\n",
        "eggs('some eggs pls')"
      ]
    },
    {
      "cell_type": "code",
      "source": [
        "class Spam():\n",
        "  def eggs(self, msg):\n",
        "    print(\"eggs!\", msg)\n",
        "\n",
        "s=Spam()\n",
        "s.eggs('fried')"
      ],
      "metadata": {
        "colab": {
          "base_uri": "https://localhost:8080/"
        },
        "id": "CikMr11AEWrM",
        "outputId": "67010485-046e-4191-a6e2-0fe43f7ac698"
      },
      "execution_count": 7,
      "outputs": [
        {
          "output_type": "stream",
          "name": "stdout",
          "text": [
            "eggs! fried\n"
          ]
        }
      ]
    },
    {
      "cell_type": "code",
      "source": [
        "print(hasattr(s, 'egg'))"
      ],
      "metadata": {
        "colab": {
          "base_uri": "https://localhost:8080/"
        },
        "id": "iNW2J055E9jf",
        "outputId": "b5c0c525-c006-4f7e-f5e4-eda7568d0550"
      },
      "execution_count": 8,
      "outputs": [
        {
          "output_type": "stream",
          "name": "stdout",
          "text": [
            "False\n"
          ]
        }
      ]
    },
    {
      "cell_type": "code",
      "source": [
        "print(hasattr(s, 'eggs'))"
      ],
      "metadata": {
        "colab": {
          "base_uri": "https://localhost:8080/"
        },
        "id": "V5vKoNZ6FP0W",
        "outputId": "f0364894-6097-4690-ebac-25fd9f7ca628"
      },
      "execution_count": 9,
      "outputs": [
        {
          "output_type": "stream",
          "name": "stdout",
          "text": [
            "True\n"
          ]
        }
      ]
    },
    {
      "cell_type": "code",
      "source": [
        "e=getattr(s, 'eggs')\n",
        "e('scrambled')"
      ],
      "metadata": {
        "colab": {
          "base_uri": "https://localhost:8080/"
        },
        "id": "fkSokLJeFVY1",
        "outputId": "4d439ff9-5fea-46eb-cd78-d1fe04d36db6"
      },
      "execution_count": 10,
      "outputs": [
        {
          "output_type": "stream",
          "name": "stdout",
          "text": [
            "eggs! scrambled\n"
          ]
        }
      ]
    },
    {
      "cell_type": "code",
      "source": [
        "def toast(self, msg):\n",
        "  print(\"Toast!\", msg)\n",
        "\n",
        "setattr(Spam, 'eggs', toast)\n",
        "\n",
        "s.eggs('buttered')"
      ],
      "metadata": {
        "colab": {
          "base_uri": "https://localhost:8080/"
        },
        "id": "IWAx1C0hFz8C",
        "outputId": "2c9f3e90-eb1a-4228-e3d0-8fab5d461ae7"
      },
      "execution_count": 11,
      "outputs": [
        {
          "output_type": "stream",
          "name": "stdout",
          "text": [
            "Toast! buttered\n"
          ]
        }
      ]
    },
    {
      "cell_type": "code",
      "source": [
        "delattr(Spam, 'eggs')\n",
        "try:\n",
        "  s.eggs('boiled')\n",
        "except AttributeError as err:\n",
        "  print(err)"
      ],
      "metadata": {
        "colab": {
          "base_uri": "https://localhost:8080/"
        },
        "id": "aoUlxw6xGeOz",
        "outputId": "6f966701-429a-4eec-81b4-96ef3969623f"
      },
      "execution_count": 12,
      "outputs": [
        {
          "output_type": "stream",
          "name": "stdout",
          "text": [
            "'Spam' object has no attribute 'eggs'\n"
          ]
        }
      ]
    }
  ]
}