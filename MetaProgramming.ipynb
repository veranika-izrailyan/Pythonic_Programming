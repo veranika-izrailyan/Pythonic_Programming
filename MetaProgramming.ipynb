{
  "nbformat": 4,
  "nbformat_minor": 0,
  "metadata": {
    "colab": {
      "name": "MetaProgramming.ipynb",
      "provenance": [],
      "authorship_tag": "ABX9TyPtqYnLCsSHgD/DN/qqRgKi",
      "include_colab_link": true
    },
    "kernelspec": {
      "name": "python3",
      "display_name": "Python 3"
    },
    "language_info": {
      "name": "python"
    }
  },
  "cells": [
    {
      "cell_type": "markdown",
      "metadata": {
        "id": "view-in-github",
        "colab_type": "text"
      },
      "source": [
        "<a href=\"https://colab.research.google.com/github/veranika-izrailyan/pythonic-programming/blob/main/MetaProgramming.ipynb\" target=\"_parent\"><img src=\"https://colab.research.google.com/assets/colab-badge.svg\" alt=\"Open In Colab\"/></a>"
      ]
    },
    {
      "cell_type": "code",
      "execution_count": null,
      "metadata": {
        "colab": {
          "base_uri": "https://localhost:8080/"
        },
        "id": "A5WLbGBqCKh_",
        "outputId": "b44e3145-d61a-410f-9e59-f48e28ccd471"
      },
      "outputs": [
        {
          "output_type": "stream",
          "name": "stdout",
          "text": [
            "Globals:\n",
            "{'__name__': '__main__', '__doc__': 'Automatically created module for IPython interactive environment', '__package__': None, '__loader__': None, '__spec__': None, '__builtin__': <module 'builtins' (built-in)>, '__builtins__': <module 'builtins' (built-in)>, '_ih': ['', \"from pprint import print\\n\\nspam = 42\\nham='Smithfield'\\n\\ndef eggs(fruit):\\n  name='Lancelot'\\n  idiom='Some idiom'\\n  print('Globals:')\\n  print(globals())\\n  print()\\n  print('Locals:')\\n  print(locals())\", \"from pprint import pprint\\n\\nspam = 42\\nham='Smithfield'\\n\\ndef eggs(fruit):\\n  name='Lancelot'\\n  idiom='Some idiom'\\n  print('Globals:')\\n  print(globals())\\n  print()\\n  print('Locals:')\\n  print(locals())\", \"from pprint import pprint\\n\\nspam = 42\\nham='Smithfield'\\n\\ndef eggs(fruit):\\n  name='Lancelot'\\n  idiom='Some idiom'\\n  print('Globals:')\\n  print(globals())\\n  print()\\n  print('Locals:')\\n  print(locals())\\n\\neggs('some eggs pls')\", \"from pprint import pprint\\n\\nspam = 42\\nham='Smithfield'\\n\\ndef eggs(fruit):\\n  name='Lancelot'\\n  idiom='Some idiom'\\n  print('Globals:')\\n  print(globals(), end=' ')\\n  print()\\n  print('Locals:')\\n  print(locals())\\n\\neggs('some eggs pls')\", \"from pprint import pprint\\n\\nspam = 42\\nham='Smithfield'\\n\\ndef eggs(fruit):\\n  name='Lancelot'\\n  idiom='Some idiom'\\n  print('Globals:')\\n  print(globals(), end='')\\n  print()\\n  print('Locals:')\\n  print(locals())\\n\\neggs('some eggs pls')\", \"from pprint import pprint\\n\\nspam = 42\\nham='Smithfield'\\n\\ndef eggs(fruit):\\n  name='Lancelot'\\n  idiom='Some idiom'\\n  print('Globals:')\\n  print(globals())\\n  print()\\n  print('Locals:')\\n  print(locals())\\n\\neggs('some eggs pls')\"], '_oh': {}, '_dh': ['/content'], '_sh': <module 'IPython.core.shadowns' from '/usr/local/lib/python3.7/dist-packages/IPython/core/shadowns.py'>, 'In': ['', \"from pprint import print\\n\\nspam = 42\\nham='Smithfield'\\n\\ndef eggs(fruit):\\n  name='Lancelot'\\n  idiom='Some idiom'\\n  print('Globals:')\\n  print(globals())\\n  print()\\n  print('Locals:')\\n  print(locals())\", \"from pprint import pprint\\n\\nspam = 42\\nham='Smithfield'\\n\\ndef eggs(fruit):\\n  name='Lancelot'\\n  idiom='Some idiom'\\n  print('Globals:')\\n  print(globals())\\n  print()\\n  print('Locals:')\\n  print(locals())\", \"from pprint import pprint\\n\\nspam = 42\\nham='Smithfield'\\n\\ndef eggs(fruit):\\n  name='Lancelot'\\n  idiom='Some idiom'\\n  print('Globals:')\\n  print(globals())\\n  print()\\n  print('Locals:')\\n  print(locals())\\n\\neggs('some eggs pls')\", \"from pprint import pprint\\n\\nspam = 42\\nham='Smithfield'\\n\\ndef eggs(fruit):\\n  name='Lancelot'\\n  idiom='Some idiom'\\n  print('Globals:')\\n  print(globals(), end=' ')\\n  print()\\n  print('Locals:')\\n  print(locals())\\n\\neggs('some eggs pls')\", \"from pprint import pprint\\n\\nspam = 42\\nham='Smithfield'\\n\\ndef eggs(fruit):\\n  name='Lancelot'\\n  idiom='Some idiom'\\n  print('Globals:')\\n  print(globals(), end='')\\n  print()\\n  print('Locals:')\\n  print(locals())\\n\\neggs('some eggs pls')\", \"from pprint import pprint\\n\\nspam = 42\\nham='Smithfield'\\n\\ndef eggs(fruit):\\n  name='Lancelot'\\n  idiom='Some idiom'\\n  print('Globals:')\\n  print(globals())\\n  print()\\n  print('Locals:')\\n  print(locals())\\n\\neggs('some eggs pls')\"], 'Out': {}, 'get_ipython': <bound method InteractiveShell.get_ipython of <google.colab._shell.Shell object at 0x7f7fb5439b90>>, 'exit': <IPython.core.autocall.ZMQExitAutocall object at 0x7f7fb51ecf50>, 'quit': <IPython.core.autocall.ZMQExitAutocall object at 0x7f7fb51ecf50>, '_': '', '__': '', '___': '', '_i': \"from pprint import pprint\\n\\nspam = 42\\nham='Smithfield'\\n\\ndef eggs(fruit):\\n  name='Lancelot'\\n  idiom='Some idiom'\\n  print('Globals:')\\n  print(globals(), end='')\\n  print()\\n  print('Locals:')\\n  print(locals())\\n\\neggs('some eggs pls')\", '_ii': \"from pprint import pprint\\n\\nspam = 42\\nham='Smithfield'\\n\\ndef eggs(fruit):\\n  name='Lancelot'\\n  idiom='Some idiom'\\n  print('Globals:')\\n  print(globals(), end=' ')\\n  print()\\n  print('Locals:')\\n  print(locals())\\n\\neggs('some eggs pls')\", '_iii': \"from pprint import pprint\\n\\nspam = 42\\nham='Smithfield'\\n\\ndef eggs(fruit):\\n  name='Lancelot'\\n  idiom='Some idiom'\\n  print('Globals:')\\n  print(globals())\\n  print()\\n  print('Locals:')\\n  print(locals())\\n\\neggs('some eggs pls')\", '_i1': \"from pprint import print\\n\\nspam = 42\\nham='Smithfield'\\n\\ndef eggs(fruit):\\n  name='Lancelot'\\n  idiom='Some idiom'\\n  print('Globals:')\\n  print(globals())\\n  print()\\n  print('Locals:')\\n  print(locals())\", '_i2': \"from pprint import pprint\\n\\nspam = 42\\nham='Smithfield'\\n\\ndef eggs(fruit):\\n  name='Lancelot'\\n  idiom='Some idiom'\\n  print('Globals:')\\n  print(globals())\\n  print()\\n  print('Locals:')\\n  print(locals())\", 'pprint': <function pprint at 0x7f7fd0ad20e0>, 'spam': 42, 'ham': 'Smithfield', 'eggs': <function eggs at 0x7f7fab9bde60>, '_i3': \"from pprint import pprint\\n\\nspam = 42\\nham='Smithfield'\\n\\ndef eggs(fruit):\\n  name='Lancelot'\\n  idiom='Some idiom'\\n  print('Globals:')\\n  print(globals())\\n  print()\\n  print('Locals:')\\n  print(locals())\\n\\neggs('some eggs pls')\", '_i4': \"from pprint import pprint\\n\\nspam = 42\\nham='Smithfield'\\n\\ndef eggs(fruit):\\n  name='Lancelot'\\n  idiom='Some idiom'\\n  print('Globals:')\\n  print(globals(), end=' ')\\n  print()\\n  print('Locals:')\\n  print(locals())\\n\\neggs('some eggs pls')\", '_i5': \"from pprint import pprint\\n\\nspam = 42\\nham='Smithfield'\\n\\ndef eggs(fruit):\\n  name='Lancelot'\\n  idiom='Some idiom'\\n  print('Globals:')\\n  print(globals(), end='')\\n  print()\\n  print('Locals:')\\n  print(locals())\\n\\neggs('some eggs pls')\", '_i6': \"from pprint import pprint\\n\\nspam = 42\\nham='Smithfield'\\n\\ndef eggs(fruit):\\n  name='Lancelot'\\n  idiom='Some idiom'\\n  print('Globals:')\\n  print(globals())\\n  print()\\n  print('Locals:')\\n  print(locals())\\n\\neggs('some eggs pls')\"}\n",
            "\n",
            "Locals:\n",
            "{'fruit': 'some eggs pls', 'name': 'Lancelot', 'idiom': 'Some idiom'}\n"
          ]
        }
      ],
      "source": [
        "from pprint import pprint\n",
        "\n",
        "spam = 42\n",
        "ham='Smithfield'\n",
        "\n",
        "def eggs(fruit):\n",
        "  name='Lancelot'\n",
        "  idiom='Some idiom'\n",
        "  print('Globals:')\n",
        "  print(globals())\n",
        "  print()\n",
        "  print('Locals:')\n",
        "  print(locals())\n",
        "\n",
        "eggs('some eggs pls')"
      ]
    },
    {
      "cell_type": "code",
      "source": [
        "class Spam():\n",
        "  def eggs(self, msg):\n",
        "    print(\"eggs!\", msg)\n",
        "\n",
        "s=Spam()\n",
        "s.eggs('fried')"
      ],
      "metadata": {
        "colab": {
          "base_uri": "https://localhost:8080/"
        },
        "id": "CikMr11AEWrM",
        "outputId": "67010485-046e-4191-a6e2-0fe43f7ac698"
      },
      "execution_count": null,
      "outputs": [
        {
          "output_type": "stream",
          "name": "stdout",
          "text": [
            "eggs! fried\n"
          ]
        }
      ]
    },
    {
      "cell_type": "code",
      "source": [
        "print(hasattr(s, 'egg'))"
      ],
      "metadata": {
        "colab": {
          "base_uri": "https://localhost:8080/"
        },
        "id": "iNW2J055E9jf",
        "outputId": "b5c0c525-c006-4f7e-f5e4-eda7568d0550"
      },
      "execution_count": null,
      "outputs": [
        {
          "output_type": "stream",
          "name": "stdout",
          "text": [
            "False\n"
          ]
        }
      ]
    },
    {
      "cell_type": "code",
      "source": [
        "print(hasattr(s, 'eggs'))"
      ],
      "metadata": {
        "colab": {
          "base_uri": "https://localhost:8080/"
        },
        "id": "V5vKoNZ6FP0W",
        "outputId": "f0364894-6097-4690-ebac-25fd9f7ca628"
      },
      "execution_count": null,
      "outputs": [
        {
          "output_type": "stream",
          "name": "stdout",
          "text": [
            "True\n"
          ]
        }
      ]
    },
    {
      "cell_type": "code",
      "source": [
        "e=getattr(s, 'eggs')\n",
        "e('scrambled')"
      ],
      "metadata": {
        "colab": {
          "base_uri": "https://localhost:8080/"
        },
        "id": "fkSokLJeFVY1",
        "outputId": "4d439ff9-5fea-46eb-cd78-d1fe04d36db6"
      },
      "execution_count": null,
      "outputs": [
        {
          "output_type": "stream",
          "name": "stdout",
          "text": [
            "eggs! scrambled\n"
          ]
        }
      ]
    },
    {
      "cell_type": "code",
      "source": [
        "def toast(self, msg):\n",
        "  print(\"Toast!\", msg)\n",
        "\n",
        "setattr(Spam, 'eggs', toast)\n",
        "\n",
        "s.eggs('buttered')"
      ],
      "metadata": {
        "colab": {
          "base_uri": "https://localhost:8080/"
        },
        "id": "IWAx1C0hFz8C",
        "outputId": "2c9f3e90-eb1a-4228-e3d0-8fab5d461ae7"
      },
      "execution_count": null,
      "outputs": [
        {
          "output_type": "stream",
          "name": "stdout",
          "text": [
            "Toast! buttered\n"
          ]
        }
      ]
    },
    {
      "cell_type": "code",
      "source": [
        "delattr(Spam, 'eggs')\n",
        "try:\n",
        "  s.eggs('boiled')\n",
        "except AttributeError as err:\n",
        "  print(err)"
      ],
      "metadata": {
        "colab": {
          "base_uri": "https://localhost:8080/"
        },
        "id": "aoUlxw6xGeOz",
        "outputId": "6f966701-429a-4eec-81b4-96ef3969623f"
      },
      "execution_count": null,
      "outputs": [
        {
          "output_type": "stream",
          "name": "stdout",
          "text": [
            "'Spam' object has no attribute 'eggs'\n"
          ]
        }
      ]
    },
    {
      "cell_type": "code",
      "source": [
        "import inspect\n",
        "\n",
        "class Spam1():\n",
        "  pass\n",
        "\n",
        "def Ham1(p1, p2='a', *p3, p4, p5='b', **p6):\n",
        "  print(p1,p2,p3,p4,p5,p6)\n",
        "\n",
        "for thing in (inspect, Spam1, Ham1):\n",
        "  print(\"{}: Module? {}. Function? {}. Class? {}\".format(\n",
        "      thing.__name__,\n",
        "      inspect.ismodule(thing),\n",
        "      inspect.isfunction(thing),\n",
        "      inspect.isclass(thing),\n",
        "  ))"
      ],
      "metadata": {
        "id": "2FykcQ30qqkm",
        "outputId": "fe0925b9-7921-4ff6-c25d-b0b28d5da12e",
        "colab": {
          "base_uri": "https://localhost:8080/"
        }
      },
      "execution_count": null,
      "outputs": [
        {
          "output_type": "stream",
          "name": "stdout",
          "text": [
            "inspect: Module? True. Function? False. Class? False\n",
            "Spam1: Module? False. Function? False. Class? True\n",
            "Ham1: Module? False. Function? True. Class? False\n"
          ]
        }
      ]
    },
    {
      "cell_type": "code",
      "source": [
        "print(\"Function specs for Ham1:\", inspect.getfullargspec(Ham1))"
      ],
      "metadata": {
        "id": "sbJ1KyUItCt_",
        "outputId": "20dee08d-b46e-468d-d885-4aa4f6c63bbf",
        "colab": {
          "base_uri": "https://localhost:8080/"
        }
      },
      "execution_count": null,
      "outputs": [
        {
          "output_type": "stream",
          "name": "stdout",
          "text": [
            "Function specs for Ham1: FullArgSpec(args=['p1', 'p2'], varargs='p3', varkw='p6', defaults=('a',), kwonlyargs=['p4', 'p5'], kwonlydefaults={'p5': 'b'}, annotations={})\n"
          ]
        }
      ]
    },
    {
      "cell_type": "code",
      "source": [
        "print(\"Current frame:\", inspect.getframeinfo(inspect.currentframe()))"
      ],
      "metadata": {
        "id": "FBZDCx7OtqYf",
        "outputId": "e175796a-0135-40d8-a65f-3adc3e384302",
        "colab": {
          "base_uri": "https://localhost:8080/"
        }
      },
      "execution_count": null,
      "outputs": [
        {
          "output_type": "stream",
          "name": "stdout",
          "text": [
            "Current frame: Traceback(filename='<ipython-input-5-de8658708dfa>', lineno=1, function='<module>', code_context=['print(\"Current frame:\", inspect.getframeinfo(inspect.currentframe()))\\n'], index=0)\n"
          ]
        }
      ]
    },
    {
      "cell_type": "code",
      "source": [
        "# creating classes dynamically\n",
        "\n",
        "def function_1(self):\n",
        "  print(\"Hello from f1()\")\n",
        "\n",
        "def function_2(self):\n",
        "  print(\"Hello from f2()\")\n",
        "\n",
        "NewClass = type(\"new_class\", (), {\n",
        "    'hello1': function_1,\n",
        "    'hello2': function_2,\n",
        "    'colour' : 'red',\n",
        "    'state' : 'England',\n",
        "})\n",
        "\n",
        "n1 = NewClass()\n",
        "n1.hello1()\n",
        "n1.hello2()\n",
        "print(n1.colour)\n",
        "\n",
        "SubClass = type(\"sub_class\", (NewClass,), {'fruit': 'apple'})\n",
        "\n",
        "s1=SubClass()\n",
        "s1.hello1()\n",
        "print(s1.colour)\n",
        "print(s1.fruit)"
      ],
      "metadata": {
        "id": "288mOZpjuLBS",
        "outputId": "bb74fd55-1944-4c75-c865-9e082f7cc4bc",
        "colab": {
          "base_uri": "https://localhost:8080/"
        }
      },
      "execution_count": null,
      "outputs": [
        {
          "output_type": "stream",
          "name": "stdout",
          "text": [
            "Hello from f1()\n",
            "Hello from f2()\n",
            "red\n",
            "Hello from f1()\n",
            "red\n",
            "apple\n"
          ]
        }
      ]
    },
    {
      "cell_type": "code",
      "source": [
        "# monkey patching\n",
        "\n",
        "class Spam2():\n",
        "  def __init__(self, name):\n",
        "    self._name=name\n",
        "  def eggs(self):\n",
        "    print(f\"Hello, here is your breakfast {self._name}\")\n",
        "\n",
        "s2 = Spam2(\"Vera\")\n",
        "s2.eggs()\n",
        "\n"
      ],
      "metadata": {
        "id": "9i6fb6pc10IU",
        "outputId": "7548ff72-d61a-4823-96d1-05e334c1786a",
        "colab": {
          "base_uri": "https://localhost:8080/"
        }
      },
      "execution_count": null,
      "outputs": [
        {
          "output_type": "stream",
          "name": "stdout",
          "text": [
            "Hello, here is your breakfast Vera\n"
          ]
        }
      ]
    },
    {
      "cell_type": "code",
      "source": [
        "def scrambled(self):\n",
        "  print(f\"Morning, {self._name}. Enjoy your scrambled eggs.\")\n",
        "\n",
        "setattr(Spam2, \"eggs\", scrambled)\n",
        "\n",
        "s2.eggs()"
      ],
      "metadata": {
        "id": "5-KU1bw92zWt",
        "outputId": "23b4b192-777e-463a-8a9a-149e84ade477",
        "colab": {
          "base_uri": "https://localhost:8080/"
        }
      },
      "execution_count": null,
      "outputs": [
        {
          "output_type": "stream",
          "name": "stdout",
          "text": [
            "Morning, Vera. Enjoy your scrambled eggs.\n"
          ]
        }
      ]
    },
    {
      "cell_type": "code",
      "source": [
        "class A:\n",
        "    def func(self):\n",
        "        print('func() is being called')\n",
        "\n",
        "a = A()\n",
        "a.func()"
      ],
      "metadata": {
        "id": "rmwL4MTv7ppc",
        "outputId": "4762f45f-2411-40a7-af23-08d6ed616044",
        "colab": {
          "base_uri": "https://localhost:8080/"
        }
      },
      "execution_count": 1,
      "outputs": [
        {
          "output_type": "stream",
          "name": "stdout",
          "text": [
            "func() is being called\n"
          ]
        }
      ]
    },
    {
      "cell_type": "code",
      "source": [
        "#Create monkey patch function\n",
        "def monkey_f(self):\n",
        "    print(\"monkey_f() is now being called\")\n",
        "\n",
        "#Apply monkey patch function replacing address of \"func\" with \"monkey_f\"\n",
        "A.func=monkey_f\n",
        "obj=A()\n",
        "#Call function \"func\" whose address got replaced with function \"monkey_f()\"\n",
        "obj.func()"
      ],
      "metadata": {
        "id": "aENZ9P7m7vMO",
        "outputId": "8174f9e7-5311-411c-c900-6ec1d513b58c",
        "colab": {
          "base_uri": "https://localhost:8080/"
        }
      },
      "execution_count": 2,
      "outputs": [
        {
          "output_type": "stream",
          "name": "stdout",
          "text": [
            "monkey_f() is now being called\n"
          ]
        }
      ]
    }
  ]
}