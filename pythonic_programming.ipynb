{
  "nbformat": 4,
  "nbformat_minor": 0,
  "metadata": {
    "colab": {
      "name": "pythonic-programming.ipynb",
      "provenance": [],
      "collapsed_sections": [],
      "authorship_tag": "ABX9TyMgEtknud7ANxLKwt2BkqbJ",
      "include_colab_link": true
    },
    "kernelspec": {
      "name": "python3",
      "display_name": "Python 3"
    },
    "language_info": {
      "name": "python"
    }
  },
  "cells": [
    {
      "cell_type": "markdown",
      "metadata": {
        "id": "view-in-github",
        "colab_type": "text"
      },
      "source": [
        "<a href=\"https://colab.research.google.com/github/veranika-izrailyan/pythonic-programming/blob/main/pythonic_programming.ipynb\" target=\"_parent\"><img src=\"https://colab.research.google.com/assets/colab-badge.svg\" alt=\"Open In Colab\"/></a>"
      ]
    },
    {
      "cell_type": "code",
      "execution_count": null,
      "metadata": {
        "colab": {
          "base_uri": "https://localhost:8080/"
        },
        "id": "JX5ticz-ERPV",
        "outputId": "69a735c5-5526-4d2e-937d-d30b48da7fad"
      },
      "outputs": [
        {
          "output_type": "stream",
          "name": "stdout",
          "text": [
            "larry king\n",
            "larry1 king1\n",
            "larry2 king2\n"
          ]
        }
      ],
      "source": [
        "people = [('larry', 'king', '30', 'london'), ('larry1', 'king1', '301', 'manchester'), ('larry2', 'king2', '302', 'leeds')]\n",
        "#unpacking\n",
        "for fname, lname, age in people:\n",
        "  print(\"{} {}\".format(fname, lname))"
      ]
    },
    {
      "cell_type": "code",
      "source": [
        "people = [('larry', 'king', '30', 'london'), ('larry1', 'king1', '301', 'manchester'), ('larry2', 'king2', '302', 'leeds')]\n",
        "\n",
        "def person_record(fname, lname, age, city):\n",
        "  print(\"{} {} lives in {}, and is {}.\".format(fname,lname, city, age))\n",
        "\n",
        "for person in people:\n",
        "  person_record(*person)"
      ],
      "metadata": {
        "colab": {
          "base_uri": "https://localhost:8080/"
        },
        "id": "fLMsMxuSIvkQ",
        "outputId": "ab5b88df-65ef-4b21-8d55-56832b57fd2d"
      },
      "execution_count": null,
      "outputs": [
        {
          "output_type": "stream",
          "name": "stdout",
          "text": [
            "larry king lives in london, and is 30.\n",
            "larry1 king1 lives in manchester, and is 301.\n",
            "larry2 king2 lives in leeds, and is 302.\n"
          ]
        }
      ]
    },
    {
      "cell_type": "code",
      "source": [
        "# sorting\n",
        "fruits = [\"apple\", \"Mango\", \"Kiwi\", \"Apricot\", \"date\"]\n",
        "\n",
        "sorted_fruit = sorted(fruits)\n",
        "\n",
        "def ignore_case(item):\n",
        "  return item.lower()\n",
        "\n",
        "sorted_fruit2 = sorted(fruits, key=ignore_case)\n",
        "\n",
        "sorted_fruit2"
      ],
      "metadata": {
        "colab": {
          "base_uri": "https://localhost:8080/"
        },
        "id": "QIVErtw7L06m",
        "outputId": "c01d6dfe-131c-41a5-956c-53732379c4d6"
      },
      "execution_count": null,
      "outputs": [
        {
          "output_type": "execute_result",
          "data": {
            "text/plain": [
              "['apple', 'Apricot', 'date', 'Kiwi', 'Mango']"
            ]
          },
          "metadata": {},
          "execution_count": 12
        }
      ]
    },
    {
      "cell_type": "code",
      "source": [
        "fruits = [\"apple\", \"Mango\", \"Kiwi\", \"Apricot\", \"date\", \"watermelon\"]\n",
        "def by_length_then_name(item):\n",
        "  return (len(item), item.lower())\n",
        "\n",
        "sorted_fruit3 = sorted(fruits, key=by_length_then_name)\n",
        "\n",
        "sorted_fruit3\n",
        "\n"
      ],
      "metadata": {
        "colab": {
          "base_uri": "https://localhost:8080/"
        },
        "id": "68Ek3m9efUQj",
        "outputId": "1352594a-d83c-4f74-8a49-611c8cb01c85"
      },
      "execution_count": 5,
      "outputs": [
        {
          "output_type": "execute_result",
          "data": {
            "text/plain": [
              "['date', 'Kiwi', 'apple', 'Mango', 'Apricot', 'watermelon']"
            ]
          },
          "metadata": {},
          "execution_count": 5
        }
      ]
    },
    {
      "cell_type": "code",
      "source": [
        "nums = [2, 56, 12, 4, 100, 1000]\n",
        "n1 = sorted(nums)\n",
        "n1"
      ],
      "metadata": {
        "colab": {
          "base_uri": "https://localhost:8080/"
        },
        "id": "DftyKfWmh_3p",
        "outputId": "48d12776-e610-4cbf-e5d6-7245d066e5a1"
      },
      "execution_count": 7,
      "outputs": [
        {
          "output_type": "execute_result",
          "data": {
            "text/plain": [
              "[2, 4, 12, 56, 100, 1000]"
            ]
          },
          "metadata": {},
          "execution_count": 7
        }
      ]
    },
    {
      "cell_type": "code",
      "source": [
        "nums2 = [2, 56, 12, 4, 1000]\n",
        "n2 = sorted(nums2, key= str)\n",
        "n2"
      ],
      "metadata": {
        "colab": {
          "base_uri": "https://localhost:8080/"
        },
        "id": "DZJ1ZKzhiXdM",
        "outputId": "96e6d162-bc70-4c4c-a4cd-88fc5abe9a93"
      },
      "execution_count": 12,
      "outputs": [
        {
          "output_type": "execute_result",
          "data": {
            "text/plain": [
              "[1000, 12, 2, 4, 56]"
            ]
          },
          "metadata": {},
          "execution_count": 12
        }
      ]
    },
    {
      "cell_type": "code",
      "source": [
        "import re\n",
        "\n",
        "rebooks =[\"Hamlet\", \"The Case Book of Sherlock Holmes\", \"A Study in Scarlet\", \"King Lear\"]\n",
        "\n",
        "rebooks\n",
        "\n"
      ],
      "metadata": {
        "colab": {
          "base_uri": "https://localhost:8080/"
        },
        "id": "BLc5Nk-_jkrI",
        "outputId": "219dc7b7-3f6c-4443-84b7-e0b3acc985de"
      },
      "execution_count": 14,
      "outputs": [
        {
          "output_type": "execute_result",
          "data": {
            "text/plain": [
              "['Hamlet',\n",
              " 'The Case Book of Sherlock Holmes',\n",
              " 'A Study in Scarlet',\n",
              " 'King Lear']"
            ]
          },
          "metadata": {},
          "execution_count": 14
        }
      ]
    },
    {
      "cell_type": "code",
      "source": [
        "rx_article = re.compile(r'^(the|a|an)\\s+',re.I)\n",
        "\n",
        "def strip_article(title):\n",
        "  stripped_title=rx_article.sub('', title.lower())\n",
        "  return stripped_title\n",
        "\n",
        "for book in sorted(rebooks, key=strip_article):\n",
        "  print(book)"
      ],
      "metadata": {
        "colab": {
          "base_uri": "https://localhost:8080/"
        },
        "id": "j3tqc4tykFzK",
        "outputId": "b86a7e9f-37fa-486a-d2da-5b79860aec1a"
      },
      "execution_count": 15,
      "outputs": [
        {
          "output_type": "stream",
          "name": "stdout",
          "text": [
            "The Case Book of Sherlock Holmes\n",
            "Hamlet\n",
            "King Lear\n",
            "A Study in Scarlet\n"
          ]
        }
      ]
    },
    {
      "cell_type": "code",
      "source": [
        ""
      ],
      "metadata": {
        "id": "_pshbN8ujkiX"
      },
      "execution_count": null,
      "outputs": []
    }
  ]
}