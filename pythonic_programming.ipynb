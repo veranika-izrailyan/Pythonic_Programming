{
  "nbformat": 4,
  "nbformat_minor": 0,
  "metadata": {
    "colab": {
      "name": "pythonic-programming.ipynb",
      "provenance": [],
      "collapsed_sections": [],
      "authorship_tag": "ABX9TyPY6wiuu3iTRVjaXYv195F5",
      "include_colab_link": true
    },
    "kernelspec": {
      "name": "python3",
      "display_name": "Python 3"
    },
    "language_info": {
      "name": "python"
    }
  },
  "cells": [
    {
      "cell_type": "markdown",
      "metadata": {
        "id": "view-in-github",
        "colab_type": "text"
      },
      "source": [
        "<a href=\"https://colab.research.google.com/github/veranika-izrailyan/pythonic-programming/blob/main/pythonic_programming.ipynb\" target=\"_parent\"><img src=\"https://colab.research.google.com/assets/colab-badge.svg\" alt=\"Open In Colab\"/></a>"
      ]
    },
    {
      "cell_type": "code",
      "execution_count": 4,
      "metadata": {
        "colab": {
          "base_uri": "https://localhost:8080/"
        },
        "id": "JX5ticz-ERPV",
        "outputId": "69a735c5-5526-4d2e-937d-d30b48da7fad"
      },
      "outputs": [
        {
          "output_type": "stream",
          "name": "stdout",
          "text": [
            "larry king\n",
            "larry1 king1\n",
            "larry2 king2\n"
          ]
        }
      ],
      "source": [
        "people = [('larry', 'king', '30', 'london'), ('larry1', 'king1', '301', 'manchester'), ('larry2', 'king2', '302', 'leeds')]\n",
        "#unpacking\n",
        "for fname, lname, age in people:\n",
        "  print(\"{} {}\".format(fname, lname))"
      ]
    },
    {
      "cell_type": "code",
      "source": [
        "people = [('larry', 'king', '30', 'london'), ('larry1', 'king1', '301', 'manchester'), ('larry2', 'king2', '302', 'leeds')]\n",
        "\n",
        "def person_record(fname, lname, age, city):\n",
        "  print(\"{} {} lives in {}, and is {}.\".format(fname,lname, city, age))\n",
        "\n",
        "for person in people:\n",
        "  person_record(*person)"
      ],
      "metadata": {
        "colab": {
          "base_uri": "https://localhost:8080/"
        },
        "id": "fLMsMxuSIvkQ",
        "outputId": "ab5b88df-65ef-4b21-8d55-56832b57fd2d"
      },
      "execution_count": 8,
      "outputs": [
        {
          "output_type": "stream",
          "name": "stdout",
          "text": [
            "larry king lives in london, and is 30.\n",
            "larry1 king1 lives in manchester, and is 301.\n",
            "larry2 king2 lives in leeds, and is 302.\n"
          ]
        }
      ]
    }
  ]
}