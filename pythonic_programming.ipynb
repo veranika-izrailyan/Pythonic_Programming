{
  "nbformat": 4,
  "nbformat_minor": 0,
  "metadata": {
    "colab": {
      "name": "pythonic-programming.ipynb",
      "provenance": [],
      "collapsed_sections": [],
      "authorship_tag": "ABX9TyO0KtAGY+7wxqxX+kFnFyfx",
      "include_colab_link": true
    },
    "kernelspec": {
      "name": "python3",
      "display_name": "Python 3"
    },
    "language_info": {
      "name": "python"
    }
  },
  "cells": [
    {
      "cell_type": "markdown",
      "metadata": {
        "id": "view-in-github",
        "colab_type": "text"
      },
      "source": [
        "<a href=\"https://colab.research.google.com/github/veranika-izrailyan/pythonic-programming/blob/main/pythonic_programming.ipynb\" target=\"_parent\"><img src=\"https://colab.research.google.com/assets/colab-badge.svg\" alt=\"Open In Colab\"/></a>"
      ]
    },
    {
      "cell_type": "code",
      "execution_count": 4,
      "metadata": {
        "colab": {
          "base_uri": "https://localhost:8080/"
        },
        "id": "JX5ticz-ERPV",
        "outputId": "69a735c5-5526-4d2e-937d-d30b48da7fad"
      },
      "outputs": [
        {
          "output_type": "stream",
          "name": "stdout",
          "text": [
            "larry king\n",
            "larry1 king1\n",
            "larry2 king2\n"
          ]
        }
      ],
      "source": [
        "people = [('larry', 'king', '30'), ('larry1', 'king1', '301'), ('larry2', 'king2', '302')]\n",
        "#unpacking\n",
        "for fname, lname, age in people:\n",
        "  print(\"{} {}\".format(fname, lname))"
      ]
    }
  ]
}