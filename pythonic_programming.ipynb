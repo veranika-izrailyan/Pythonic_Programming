{
  "nbformat": 4,
  "nbformat_minor": 0,
  "metadata": {
    "colab": {
      "name": "pythonic-programming.ipynb",
      "provenance": [],
      "collapsed_sections": [],
      "authorship_tag": "ABX9TyORR+9bwC2PNcapCj3LLlMC",
      "include_colab_link": true
    },
    "kernelspec": {
      "name": "python3",
      "display_name": "Python 3"
    },
    "language_info": {
      "name": "python"
    }
  },
  "cells": [
    {
      "cell_type": "markdown",
      "metadata": {
        "id": "view-in-github",
        "colab_type": "text"
      },
      "source": [
        "<a href=\"https://colab.research.google.com/github/veranika-izrailyan/pythonic-programming/blob/main/pythonic_programming.ipynb\" target=\"_parent\"><img src=\"https://colab.research.google.com/assets/colab-badge.svg\" alt=\"Open In Colab\"/></a>"
      ]
    },
    {
      "cell_type": "code",
      "execution_count": null,
      "metadata": {
        "colab": {
          "base_uri": "https://localhost:8080/"
        },
        "id": "JX5ticz-ERPV",
        "outputId": "69a735c5-5526-4d2e-937d-d30b48da7fad"
      },
      "outputs": [
        {
          "output_type": "stream",
          "name": "stdout",
          "text": [
            "larry king\n",
            "larry1 king1\n",
            "larry2 king2\n"
          ]
        }
      ],
      "source": [
        "people = [('larry', 'king', '30', 'london'), ('larry1', 'king1', '301', 'manchester'), ('larry2', 'king2', '302', 'leeds')]\n",
        "#unpacking\n",
        "for fname, lname, age in people:\n",
        "  print(\"{} {}\".format(fname, lname))"
      ]
    },
    {
      "cell_type": "code",
      "source": [
        "people = [('larry', 'king', '30', 'london'), ('larry1', 'king1', '301', 'manchester'), ('larry2', 'king2', '302', 'leeds')]\n",
        "\n",
        "def person_record(fname, lname, age, city):\n",
        "  print(\"{} {} lives in {}, and is {}.\".format(fname,lname, city, age))\n",
        "\n",
        "for person in people:\n",
        "  person_record(*person)"
      ],
      "metadata": {
        "colab": {
          "base_uri": "https://localhost:8080/"
        },
        "id": "fLMsMxuSIvkQ",
        "outputId": "ab5b88df-65ef-4b21-8d55-56832b57fd2d"
      },
      "execution_count": null,
      "outputs": [
        {
          "output_type": "stream",
          "name": "stdout",
          "text": [
            "larry king lives in london, and is 30.\n",
            "larry1 king1 lives in manchester, and is 301.\n",
            "larry2 king2 lives in leeds, and is 302.\n"
          ]
        }
      ]
    },
    {
      "cell_type": "code",
      "source": [
        "# sorting\n",
        "fruits = [\"apple\", \"Mango\", \"Kiwi\", \"Apricot\", \"date\"]\n",
        "\n",
        "sorted_fruit = sorted(fruits)\n",
        "\n",
        "def ignore_case(item):\n",
        "  return item.lower()\n",
        "\n",
        "sorted_fruit2 = sorted(fruits, key=ignore_case)\n",
        "\n",
        "sorted_fruit2"
      ],
      "metadata": {
        "colab": {
          "base_uri": "https://localhost:8080/"
        },
        "id": "QIVErtw7L06m",
        "outputId": "c01d6dfe-131c-41a5-956c-53732379c4d6"
      },
      "execution_count": null,
      "outputs": [
        {
          "output_type": "execute_result",
          "data": {
            "text/plain": [
              "['apple', 'Apricot', 'date', 'Kiwi', 'Mango']"
            ]
          },
          "metadata": {},
          "execution_count": 12
        }
      ]
    },
    {
      "cell_type": "code",
      "source": [
        "fruits = [\"apple\", \"Mango\", \"Kiwi\", \"Apricot\", \"date\", \"watermelon\"]\n",
        "def by_length_then_name(item):\n",
        "  return (len(item), item.lower())\n",
        "\n",
        "sorted_fruit3 = sorted(fruits, key=by_length_then_name)\n",
        "\n",
        "sorted_fruit3\n",
        "\n"
      ],
      "metadata": {
        "colab": {
          "base_uri": "https://localhost:8080/"
        },
        "id": "68Ek3m9efUQj",
        "outputId": "1352594a-d83c-4f74-8a49-611c8cb01c85"
      },
      "execution_count": 5,
      "outputs": [
        {
          "output_type": "execute_result",
          "data": {
            "text/plain": [
              "['date', 'Kiwi', 'apple', 'Mango', 'Apricot', 'watermelon']"
            ]
          },
          "metadata": {},
          "execution_count": 5
        }
      ]
    },
    {
      "cell_type": "code",
      "source": [
        "nums = [2, 56, 12, 4, 100, 1000]\n",
        "n1 = sorted(nums)\n",
        "n1"
      ],
      "metadata": {
        "colab": {
          "base_uri": "https://localhost:8080/"
        },
        "id": "DftyKfWmh_3p",
        "outputId": "48d12776-e610-4cbf-e5d6-7245d066e5a1"
      },
      "execution_count": 7,
      "outputs": [
        {
          "output_type": "execute_result",
          "data": {
            "text/plain": [
              "[2, 4, 12, 56, 100, 1000]"
            ]
          },
          "metadata": {},
          "execution_count": 7
        }
      ]
    },
    {
      "cell_type": "code",
      "source": [
        "nums2 = [2, 56, 12, 4, 1000]\n",
        "n2 = sorted(nums2, key= str)\n",
        "n2"
      ],
      "metadata": {
        "colab": {
          "base_uri": "https://localhost:8080/"
        },
        "id": "DZJ1ZKzhiXdM",
        "outputId": "96e6d162-bc70-4c4c-a4cd-88fc5abe9a93"
      },
      "execution_count": 12,
      "outputs": [
        {
          "output_type": "execute_result",
          "data": {
            "text/plain": [
              "[1000, 12, 2, 4, 56]"
            ]
          },
          "metadata": {},
          "execution_count": 12
        }
      ]
    },
    {
      "cell_type": "code",
      "source": [
        "import re\n",
        "\n",
        "rebooks =[\"Hamlet\", \"The Case Book of Sherlock Holmes\", \"A Study in Scarlet\", \"King Lear\"]\n",
        "\n",
        "rebooks\n",
        "\n"
      ],
      "metadata": {
        "colab": {
          "base_uri": "https://localhost:8080/"
        },
        "id": "BLc5Nk-_jkrI",
        "outputId": "219dc7b7-3f6c-4443-84b7-e0b3acc985de"
      },
      "execution_count": 14,
      "outputs": [
        {
          "output_type": "execute_result",
          "data": {
            "text/plain": [
              "['Hamlet',\n",
              " 'The Case Book of Sherlock Holmes',\n",
              " 'A Study in Scarlet',\n",
              " 'King Lear']"
            ]
          },
          "metadata": {},
          "execution_count": 14
        }
      ]
    },
    {
      "cell_type": "code",
      "source": [
        "rx_article = re.compile(r'^(the|a|an)\\s+',re.I)\n",
        "\n",
        "def strip_article(title):\n",
        "  stripped_title=rx_article.sub('', title.lower())\n",
        "  return stripped_title\n",
        "\n",
        "for book in sorted(rebooks, key=strip_article):\n",
        "  print(book)"
      ],
      "metadata": {
        "colab": {
          "base_uri": "https://localhost:8080/"
        },
        "id": "j3tqc4tykFzK",
        "outputId": "b86a7e9f-37fa-486a-d2da-5b79860aec1a"
      },
      "execution_count": 15,
      "outputs": [
        {
          "output_type": "stream",
          "name": "stdout",
          "text": [
            "The Case Book of Sherlock Holmes\n",
            "Hamlet\n",
            "King Lear\n",
            "A Study in Scarlet\n"
          ]
        }
      ]
    },
    {
      "cell_type": "code",
      "source": [
        "# lambda\n",
        "\n",
        "addFive = lambda x: x+5\n",
        "addFive(100)"
      ],
      "metadata": {
        "colab": {
          "base_uri": "https://localhost:8080/"
        },
        "id": "_pshbN8ujkiX",
        "outputId": "5014ec29-7733-4fd3-aebb-c7485db60f2b"
      },
      "execution_count": 16,
      "outputs": [
        {
          "output_type": "execute_result",
          "data": {
            "text/plain": [
              "105"
            ]
          },
          "metadata": {},
          "execution_count": 16
        }
      ]
    },
    {
      "cell_type": "code",
      "source": [
        "addTwoNums = lambda x,y: x+y\n",
        "addTwoNums(90,20)"
      ],
      "metadata": {
        "colab": {
          "base_uri": "https://localhost:8080/"
        },
        "id": "7IftFC81tA7K",
        "outputId": "d1736451-cf0c-4abe-a3e2-f739e87804f5"
      },
      "execution_count": 17,
      "outputs": [
        {
          "output_type": "execute_result",
          "data": {
            "text/plain": [
              "110"
            ]
          },
          "metadata": {},
          "execution_count": 17
        }
      ]
    },
    {
      "cell_type": "code",
      "source": [
        "printRes = lambda func, val:print(func(val))\n",
        "printRes(addFive, 200)"
      ],
      "metadata": {
        "colab": {
          "base_uri": "https://localhost:8080/"
        },
        "id": "z7jN-xAQtiFY",
        "outputId": "e0af5ba4-521a-417d-d89b-b234cdffd6f3"
      },
      "execution_count": 18,
      "outputs": [
        {
          "output_type": "stream",
          "name": "stdout",
          "text": [
            "205\n"
          ]
        }
      ]
    },
    {
      "cell_type": "code",
      "source": [
        "fruits = [\"apple\", \"Mango\", \"Kiwi\", \"Apricot\", \"date\", \"watermelon\"]\n",
        "\n",
        "sorted_fruits = sorted(fruits, key=lambda e: e.lower())\n",
        "sorted_fruits"
      ],
      "metadata": {
        "colab": {
          "base_uri": "https://localhost:8080/"
        },
        "id": "J2VlDseNulvy",
        "outputId": "a354c4c3-9752-414d-a107-e2decbc5836d"
      },
      "execution_count": 19,
      "outputs": [
        {
          "output_type": "execute_result",
          "data": {
            "text/plain": [
              "['apple', 'Apricot', 'date', 'Kiwi', 'Mango', 'watermelon']"
            ]
          },
          "metadata": {},
          "execution_count": 19
        }
      ]
    },
    {
      "cell_type": "code",
      "source": [
        "# list comprehension\n",
        "\n",
        "numbers=[1,2,3,4,5,6,7,8,9,10]\n",
        "squared=[x**2 for x in numbers]\n",
        "squared"
      ],
      "metadata": {
        "colab": {
          "base_uri": "https://localhost:8080/"
        },
        "id": "fjOuNXUOvK4f",
        "outputId": "e4eb6bd0-22e2-463e-d6bd-d375ebfe372f"
      },
      "execution_count": 20,
      "outputs": [
        {
          "output_type": "execute_result",
          "data": {
            "text/plain": [
              "[1, 4, 9, 16, 25, 36, 49, 64, 81, 100]"
            ]
          },
          "metadata": {},
          "execution_count": 20
        }
      ]
    },
    {
      "cell_type": "code",
      "source": [
        "evens = [x*2 for x in range(20)]\n",
        "evens"
      ],
      "metadata": {
        "colab": {
          "base_uri": "https://localhost:8080/"
        },
        "id": "QxHiFBhWv7_x",
        "outputId": "e9aa54ac-00cc-44f5-b10c-9efce5365180"
      },
      "execution_count": 22,
      "outputs": [
        {
          "output_type": "execute_result",
          "data": {
            "text/plain": [
              "[0, 2, 4, 6, 8, 10, 12, 14, 16, 18, 20, 22, 24, 26, 28, 30, 32, 34, 36, 38]"
            ]
          },
          "metadata": {},
          "execution_count": 22
        }
      ]
    },
    {
      "cell_type": "code",
      "source": [
        "upperFruits = [item.upper() for item in fruits]\n",
        "sorted(upperFruits)"
      ],
      "metadata": {
        "colab": {
          "base_uri": "https://localhost:8080/"
        },
        "id": "gDqC6JWkwV5A",
        "outputId": "6d4c2d80-d1bb-4545-9203-a6242f6e5899"
      },
      "execution_count": 25,
      "outputs": [
        {
          "output_type": "execute_result",
          "data": {
            "text/plain": [
              "['APPLE', 'APRICOT', 'DATE', 'KIWI', 'MANGO', 'WATERMELON']"
            ]
          },
          "metadata": {},
          "execution_count": 25
        }
      ]
    },
    {
      "cell_type": "code",
      "source": [
        "values = [2,4,5,\"boom\",[9,8,7]]\n",
        "doubles = [v*2 for v in values]\n",
        "doubles"
      ],
      "metadata": {
        "colab": {
          "base_uri": "https://localhost:8080/"
        },
        "id": "lAKF1ZrLxDug",
        "outputId": "b25e17de-9dab-4fc3-e24a-4df9fc0f1e87"
      },
      "execution_count": 26,
      "outputs": [
        {
          "output_type": "execute_result",
          "data": {
            "text/plain": [
              "[4, 8, 10, 'boomboom', [9, 8, 7, 9, 8, 7]]"
            ]
          },
          "metadata": {},
          "execution_count": 26
        }
      ]
    },
    {
      "cell_type": "code",
      "source": [
        "# dictionary comprehension\n",
        "\n",
        "animals = [\"Owl\", \"TIGER\", \"rabbit\", \"pig\"]\n",
        "animals_dict ={a.lower(): len(a) for a in animals}\n",
        "animals_dict"
      ],
      "metadata": {
        "colab": {
          "base_uri": "https://localhost:8080/"
        },
        "id": "wxzUXCtHxmMV",
        "outputId": "fb79623c-9b5c-4edc-f987-377c3b32e0af"
      },
      "execution_count": 27,
      "outputs": [
        {
          "output_type": "execute_result",
          "data": {
            "text/plain": [
              "{'owl': 3, 'pig': 3, 'rabbit': 6, 'tiger': 5}"
            ]
          },
          "metadata": {},
          "execution_count": 27
        }
      ]
    },
    {
      "cell_type": "code",
      "source": [
        "\n",
        "s1=sum([x*x for x in range(10)])\n",
        "s1"
      ],
      "metadata": {
        "colab": {
          "base_uri": "https://localhost:8080/"
        },
        "id": "M65z6DG0z-pC",
        "outputId": "672c355e-5edc-445c-f7d5-9bd99d02487b"
      },
      "execution_count": 28,
      "outputs": [
        {
          "output_type": "execute_result",
          "data": {
            "text/plain": [
              "285"
            ]
          },
          "metadata": {},
          "execution_count": 28
        }
      ]
    },
    {
      "cell_type": "code",
      "source": [
        "# generator expression - memory efficient\n",
        "\n",
        "s2 = sum(x*x for x in range (10))\n",
        "s2"
      ],
      "metadata": {
        "colab": {
          "base_uri": "https://localhost:8080/"
        },
        "id": "OBzrlcsN0m4L",
        "outputId": "c591032c-2428-4cb5-bb22-468b8b6c5a1d"
      },
      "execution_count": 29,
      "outputs": [
        {
          "output_type": "execute_result",
          "data": {
            "text/plain": [
              "285"
            ]
          },
          "metadata": {},
          "execution_count": 29
        }
      ]
    },
    {
      "cell_type": "code",
      "source": [
        "#generator functions\n",
        "\n",
        "def my_numbers():\n",
        "  a=0\n",
        "  for i in range(3):\n",
        "    yield a\n",
        "    a=a+1\n",
        "  for i in range(3):\n",
        "    yield a\n",
        "    a=a-1\n",
        "  yield 100\n",
        "  yield 200\n",
        "  yield 300\n",
        "\n",
        "for num in my_numbers():\n",
        "  print(num)"
      ],
      "metadata": {
        "colab": {
          "base_uri": "https://localhost:8080/"
        },
        "id": "gfzBznJM1e_F",
        "outputId": "575c8d29-3872-4a85-b155-e37fc165a481"
      },
      "execution_count": 32,
      "outputs": [
        {
          "output_type": "stream",
          "name": "stdout",
          "text": [
            "0\n",
            "1\n",
            "2\n",
            "3\n",
            "2\n",
            "1\n",
            "100\n",
            "200\n",
            "300\n"
          ]
        }
      ]
    },
    {
      "cell_type": "code",
      "source": [
        "def next_prime(limit):\n",
        "  flags= set()\n",
        "\n",
        "  for i in range(2, limit):\n",
        "    if i in flags:\n",
        "      continue\n",
        "    for j in range(2*i, limit+1 ,i):\n",
        "      flags.add(j)\n",
        "    yield i\n",
        "\n",
        "for prime in next_prime(200):\n",
        "  print(prime, end=' ')"
      ],
      "metadata": {
        "colab": {
          "base_uri": "https://localhost:8080/"
        },
        "id": "4T0tg9WV4txV",
        "outputId": "11bde616-a195-449a-d905-ccbcdbfb4726"
      },
      "execution_count": 35,
      "outputs": [
        {
          "output_type": "stream",
          "name": "stdout",
          "text": [
            "2 3 5 7 11 13 17 19 23 29 31 37 41 43 47 53 59 61 67 71 73 79 83 89 97 101 103 107 109 113 127 131 137 139 149 151 157 163 167 173 179 181 191 193 197 199 "
          ]
        }
      ]
    },
    {
      "cell_type": "code",
      "source": [
        "# string formatting\n",
        "\n",
        "colour = 'blue'\n",
        "animal = 'cat'\n",
        "\n",
        "print(\"{} {}\".format(colour, animal))"
      ],
      "metadata": {
        "colab": {
          "base_uri": "https://localhost:8080/"
        },
        "id": "uYjilFov6vu0",
        "outputId": "475b1977-9b6a-472e-f260-8acddaba4ed9"
      },
      "execution_count": 38,
      "outputs": [
        {
          "output_type": "stream",
          "name": "stdout",
          "text": [
            "blue cat\n"
          ]
        }
      ]
    },
    {
      "cell_type": "code",
      "source": [
        "colour1 = 'red'\n",
        "animal1= 'squirel'\n",
        "\n",
        "print(f'{colour1} {animal1}')"
      ],
      "metadata": {
        "colab": {
          "base_uri": "https://localhost:8080/"
        },
        "id": "7ZMpjSGFAF_y",
        "outputId": "0d5771ea-4fad-4786-f514-b801b7ef4d03"
      },
      "execution_count": 47,
      "outputs": [
        {
          "output_type": "stream",
          "name": "stdout",
          "text": [
            "red squirel\n"
          ]
        }
      ]
    },
    {
      "cell_type": "code",
      "source": [
        "\"Try these: {0}.jpg, {0}.png, {0}.pdf\".format('dog')"
      ],
      "metadata": {
        "colab": {
          "base_uri": "https://localhost:8080/",
          "height": 35
        },
        "id": "s9ZL2ibZ9iOR",
        "outputId": "d58cd842-7c77-4741-de07-d3d827221409"
      },
      "execution_count": 39,
      "outputs": [
        {
          "output_type": "execute_result",
          "data": {
            "application/vnd.google.colaboratory.intrinsic+json": {
              "type": "string"
            },
            "text/plain": [
              "'Try these: dog.jpg, dog.png, dog.pdf'"
            ]
          },
          "metadata": {},
          "execution_count": 39
        }
      ]
    },
    {
      "cell_type": "code",
      "source": [
        "farh = 95.89900\n",
        "print('{:.1f}'.format(farh))"
      ],
      "metadata": {
        "colab": {
          "base_uri": "https://localhost:8080/"
        },
        "id": "LGkkVJZ_9_QG",
        "outputId": "7b4e7610-b587-44e3-fa5c-9862a6e7fa8d"
      },
      "execution_count": 40,
      "outputs": [
        {
          "output_type": "stream",
          "name": "stdout",
          "text": [
            "95.9\n"
          ]
        }
      ]
    },
    {
      "cell_type": "code",
      "source": [
        "data = {'A':80, 'B':43, 'C': 55}\n",
        "for letter, number in sorted(data.items()):\n",
        "  print('{} {:4d}'.format(letter, number))"
      ],
      "metadata": {
        "colab": {
          "base_uri": "https://localhost:8080/"
        },
        "id": "3XWT97YU-kW5",
        "outputId": "30472457-1255-4d10-ae7a-669a291fc866"
      },
      "execution_count": 43,
      "outputs": [
        {
          "output_type": "stream",
          "name": "stdout",
          "text": [
            "A   80\n",
            "B   43\n",
            "C   55\n"
          ]
        }
      ]
    }
  ]
}