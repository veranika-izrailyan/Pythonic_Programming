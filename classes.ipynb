{
  "nbformat": 4,
  "nbformat_minor": 0,
  "metadata": {
    "colab": {
      "name": "classes.ipynb",
      "provenance": [],
      "authorship_tag": "ABX9TyMTUNRD+BNryYtKKMxt7IgU",
      "include_colab_link": true
    },
    "kernelspec": {
      "name": "python3",
      "display_name": "Python 3"
    },
    "language_info": {
      "name": "python"
    }
  },
  "cells": [
    {
      "cell_type": "markdown",
      "metadata": {
        "id": "view-in-github",
        "colab_type": "text"
      },
      "source": [
        "<a href=\"https://colab.research.google.com/github/veranika-izrailyan/pythonic-programming/blob/main/classes.ipynb\" target=\"_parent\"><img src=\"https://colab.research.google.com/assets/colab-badge.svg\" alt=\"Open In Colab\"/></a>"
      ]
    },
    {
      "cell_type": "code",
      "execution_count": 4,
      "metadata": {
        "colab": {
          "base_uri": "https://localhost:8080/"
        },
        "id": "TjUwsCvfi-XK",
        "outputId": "3fb025ad-f256-4ad6-9550-5b483bb3318e"
      },
      "outputs": [
        {
          "output_type": "stream",
          "name": "stdout",
          "text": [
            "I am a large bunny with sharp teeth!\n"
          ]
        }
      ],
      "source": [
        "class Rabbit:\n",
        "  def __init__(self, size, danger):\n",
        "    self._size=size\n",
        "    self._danger=danger\n",
        "    self._victims=[]\n",
        "  def threaten(self):\n",
        "    print(f\"I am a {self._size} bunny with {self._danger} teeth!\") \n",
        "\n",
        "r1=Rabbit(\"large\",\"sharp\")\n",
        "r1.threaten()"
      ]
    },
    {
      "cell_type": "code",
      "source": [
        "class Knight(object):\n",
        "  def __init__(self,name):\n",
        "    self._name=name\n",
        "  def set_name(self,name):\n",
        "    self._name=name\n",
        "  def get_name(self):\n",
        "    return self._name\n",
        "\n",
        "k=Knight(\"Lancelot\")\n",
        "k.get_name()"
      ],
      "metadata": {
        "colab": {
          "base_uri": "https://localhost:8080/",
          "height": 35
        },
        "id": "HmVcQxp9lHmp",
        "outputId": "5d6c6103-d949-438c-a54f-ac0d09a6649c"
      },
      "execution_count": 8,
      "outputs": [
        {
          "output_type": "execute_result",
          "data": {
            "application/vnd.google.colaboratory.intrinsic+json": {
              "type": "string"
            },
            "text/plain": [
              "'Lancelot'"
            ]
          },
          "metadata": {},
          "execution_count": 8
        }
      ]
    },
    {
      "cell_type": "code",
      "source": [
        "k.set_name(\"Jeremy\")\n",
        "k.get_name()"
      ],
      "metadata": {
        "colab": {
          "base_uri": "https://localhost:8080/",
          "height": 35
        },
        "id": "A78jZRbsmJBI",
        "outputId": "5dd1f137-d75e-47c5-db24-a92a51d1cb38"
      },
      "execution_count": 9,
      "outputs": [
        {
          "output_type": "execute_result",
          "data": {
            "application/vnd.google.colaboratory.intrinsic+json": {
              "type": "string"
            },
            "text/plain": [
              "'Jeremy'"
            ]
          },
          "metadata": {},
          "execution_count": 9
        }
      ]
    },
    {
      "cell_type": "code",
      "source": [
        "class Knight1():\n",
        "  def __init__(self,name,title,colour):\n",
        "    self._name=name\n",
        "    self._title=title\n",
        "    self._colour=colour\n",
        "  @property\n",
        "  def name(self):\n",
        "    return self._name\n",
        "  @property\n",
        "  def colour(self):\n",
        "    return self._colour\n",
        "  @colour.setter\n",
        "  def colour(self,colour):\n",
        "    self._colour=colour\n",
        "  @property\n",
        "  def title(self):\n",
        "    return self._title\n",
        "\n",
        "k1=Knight1(\"Lancelot\",\"Sir\", \"blue\")\n",
        "print(f\"{k1.name} {k1.colour}\")\n"
      ],
      "metadata": {
        "colab": {
          "base_uri": "https://localhost:8080/"
        },
        "id": "9eTHnT73nPHL",
        "outputId": "f17d0a9e-621d-44da-d255-65ef4486f785"
      },
      "execution_count": 15,
      "outputs": [
        {
          "output_type": "stream",
          "name": "stdout",
          "text": [
            "Lancelot blue\n"
          ]
        }
      ]
    },
    {
      "cell_type": "code",
      "source": [
        "k1.colour=\"red\"\n",
        "print(f\"{k1.name} {k1.colour}\")"
      ],
      "metadata": {
        "colab": {
          "base_uri": "https://localhost:8080/"
        },
        "id": "q1Xyipfaqhbb",
        "outputId": "0986a2ab-3765-471d-87c3-285c8c12b332"
      },
      "execution_count": 17,
      "outputs": [
        {
          "output_type": "stream",
          "name": "stdout",
          "text": [
            "Lancelot red\n"
          ]
        }
      ]
    },
    {
      "cell_type": "code",
      "source": [
        "class Rabbit2:\n",
        "  LOCATION = \"the cave\"\n",
        "  def __init__(self, weapon):\n",
        "    self.weapon=weapon\n",
        "  def display(self):\n",
        "    print(f'The rabbit is guarding {self.LOCATION} and uses {self.weapon}')\n",
        "\n",
        "r2 = Rabbit2(\"flowers\")\n",
        "r2.display()"
      ],
      "metadata": {
        "colab": {
          "base_uri": "https://localhost:8080/"
        },
        "id": "9VE413vwq8e2",
        "outputId": "8c4849ad-92e4-4e8d-edb0-9068b0dfe3b0"
      },
      "execution_count": 18,
      "outputs": [
        {
          "output_type": "stream",
          "name": "stdout",
          "text": [
            "The rabbit is guarding the cave and uses flowers\n"
          ]
        }
      ]
    },
    {
      "cell_type": "code",
      "source": [
        "class Rabbit3:\n",
        "  LOCATION = \"the cave\"\n",
        "  def __init__(self, weapon):\n",
        "    self.weapon=weapon\n",
        "  def display(self):\n",
        "    print(f'The rabbit is guarding {self.LOCATION} and uses {self.weapon}')\n",
        "  @classmethod\n",
        "  def get_location(cls):\n",
        "    return cls.LOCATION\n",
        "\n",
        "r3=Rabbit3(\"cup of tea\")\n",
        "r3.get_location()"
      ],
      "metadata": {
        "colab": {
          "base_uri": "https://localhost:8080/",
          "height": 35
        },
        "id": "CsbLotxhr9VJ",
        "outputId": "d0ed1e01-5f02-4e6f-9fc8-59c93c049190"
      },
      "execution_count": 20,
      "outputs": [
        {
          "output_type": "execute_result",
          "data": {
            "application/vnd.google.colaboratory.intrinsic+json": {
              "type": "string"
            },
            "text/plain": [
              "'the cave'"
            ]
          },
          "metadata": {},
          "execution_count": 20
        }
      ]
    }
  ]
}