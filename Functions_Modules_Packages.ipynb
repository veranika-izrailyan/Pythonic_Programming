{
  "nbformat": 4,
  "nbformat_minor": 0,
  "metadata": {
    "colab": {
      "name": "Functions_Modules_Packages.ipynb",
      "provenance": [],
      "authorship_tag": "ABX9TyM5lrs+lGpeVITfeg4NBi59",
      "include_colab_link": true
    },
    "kernelspec": {
      "name": "python3",
      "display_name": "Python 3"
    },
    "language_info": {
      "name": "python"
    }
  },
  "cells": [
    {
      "cell_type": "markdown",
      "metadata": {
        "id": "view-in-github",
        "colab_type": "text"
      },
      "source": [
        "<a href=\"https://colab.research.google.com/github/veranika-izrailyan/pythonic-programming/blob/main/Functions_Modules_Packages.ipynb\" target=\"_parent\"><img src=\"https://colab.research.google.com/assets/colab-badge.svg\" alt=\"Open In Colab\"/></a>"
      ]
    },
    {
      "cell_type": "code",
      "execution_count": null,
      "metadata": {
        "colab": {
          "base_uri": "https://localhost:8080/"
        },
        "id": "m0TxjdgQfJxE",
        "outputId": "30f0494d-9b61-4c34-cd64-a9e391352f0c"
      },
      "outputs": [
        {
          "output_type": "stream",
          "name": "stdout",
          "text": [
            "spam spam spam "
          ]
        }
      ],
      "source": [
        "def fun_free(count=3):\n",
        "  for _ in range(count):\n",
        "    print(\"spam\", end=' ')\n",
        "\n",
        "fun_free()\n"
      ]
    },
    {
      "cell_type": "code",
      "source": [
        "def fun_four(n, *opt):\n",
        "  print(\"fun_four():\")\n",
        "  print(\"n is \", n)\n",
        "  print(\"opt is\", opt)\n",
        "  print('-' * 20)\n",
        "\n",
        "fun_four('apple')"
      ],
      "metadata": {
        "colab": {
          "base_uri": "https://localhost:8080/"
        },
        "id": "9J3vZIa4i3mO",
        "outputId": "0524e611-c2bf-4ffe-cc69-815ab66a11dc"
      },
      "execution_count": null,
      "outputs": [
        {
          "output_type": "stream",
          "name": "stdout",
          "text": [
            "fun_four():\n",
            "n is  apple\n",
            "opt is ()\n",
            "--------------------\n"
          ]
        }
      ]
    },
    {
      "cell_type": "code",
      "source": [
        "def fun_six(**named_arg):\n",
        "  print(\"fun_six():\")\n",
        "  for name in named_arg:\n",
        "    print(name, \"-->\", named_arg[name])\n",
        "    print(type(named_arg))\n",
        "\n",
        "fun_six(name=\"Mike\", job=\"analyst\", contract=\"full time\")\n"
      ],
      "metadata": {
        "id": "uPIEGQDGYN4n",
        "outputId": "55237774-46bd-4fde-9263-d8c9401b06fc",
        "colab": {
          "base_uri": "https://localhost:8080/"
        }
      },
      "execution_count": 4,
      "outputs": [
        {
          "output_type": "stream",
          "name": "stdout",
          "text": [
            "fun_six():\n",
            "name --> Mike\n",
            "<class 'dict'>\n",
            "job --> analyst\n",
            "<class 'dict'>\n",
            "contract --> full time\n",
            "<class 'dict'>\n"
          ]
        }
      ]
    },
    {
      "cell_type": "code",
      "source": [
        "def ham(*, file_name, file_format='txt'):\n",
        "  print(\"Processing {} as {}\".format(file_name, file_format))\n",
        "\n",
        "ham(file_name=\"eggs\")"
      ],
      "metadata": {
        "id": "WSKnH2Tcaj5B",
        "outputId": "3789bb87-27ec-49d1-a8c8-806d169614ae",
        "colab": {
          "base_uri": "https://localhost:8080/"
        }
      },
      "execution_count": 6,
      "outputs": [
        {
          "output_type": "stream",
          "name": "stdout",
          "text": [
            "Processing eggs as txt\n"
          ]
        }
      ]
    }
  ]
}