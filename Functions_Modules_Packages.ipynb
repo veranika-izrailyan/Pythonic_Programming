{
  "nbformat": 4,
  "nbformat_minor": 0,
  "metadata": {
    "colab": {
      "name": "Functions_Modules_Packages.ipynb",
      "provenance": [],
      "authorship_tag": "ABX9TyMI+FjVLBgggp44eS3pGtVU",
      "include_colab_link": true
    },
    "kernelspec": {
      "name": "python3",
      "display_name": "Python 3"
    },
    "language_info": {
      "name": "python"
    }
  },
  "cells": [
    {
      "cell_type": "markdown",
      "metadata": {
        "id": "view-in-github",
        "colab_type": "text"
      },
      "source": [
        "<a href=\"https://colab.research.google.com/github/veranika-izrailyan/pythonic-programming/blob/main/Functions_Modules_Packages.ipynb\" target=\"_parent\"><img src=\"https://colab.research.google.com/assets/colab-badge.svg\" alt=\"Open In Colab\"/></a>"
      ]
    },
    {
      "cell_type": "code",
      "execution_count": 1,
      "metadata": {
        "colab": {
          "base_uri": "https://localhost:8080/"
        },
        "id": "m0TxjdgQfJxE",
        "outputId": "30f0494d-9b61-4c34-cd64-a9e391352f0c"
      },
      "outputs": [
        {
          "output_type": "stream",
          "name": "stdout",
          "text": [
            "spam spam spam "
          ]
        }
      ],
      "source": [
        "def fun_free(count=3):\n",
        "  for _ in range(count):\n",
        "    print(\"spam\", end=' ')\n",
        "\n",
        "fun_free()\n"
      ]
    },
    {
      "cell_type": "code",
      "source": [
        "def fun_four(n, *opt):\n",
        "  print(\"fun_four():\")\n",
        "  print(\"n is \", n)\n",
        "  print(\"opt is\", opt)\n",
        "  print('-' * 20)\n",
        "\n",
        "fun_four('apple')"
      ],
      "metadata": {
        "colab": {
          "base_uri": "https://localhost:8080/"
        },
        "id": "9J3vZIa4i3mO",
        "outputId": "0524e611-c2bf-4ffe-cc69-815ab66a11dc"
      },
      "execution_count": 2,
      "outputs": [
        {
          "output_type": "stream",
          "name": "stdout",
          "text": [
            "fun_four():\n",
            "n is  apple\n",
            "opt is ()\n",
            "--------------------\n"
          ]
        }
      ]
    }
  ]
}