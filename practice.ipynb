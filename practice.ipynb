{
  "nbformat": 4,
  "nbformat_minor": 0,
  "metadata": {
    "colab": {
      "name": "practice.ipynb",
      "provenance": [],
      "collapsed_sections": [],
      "authorship_tag": "ABX9TyMAWnzQOnfcMcejZxP4ezXV",
      "include_colab_link": true
    },
    "kernelspec": {
      "name": "python3",
      "display_name": "Python 3"
    },
    "language_info": {
      "name": "python"
    }
  },
  "cells": [
    {
      "cell_type": "markdown",
      "metadata": {
        "id": "view-in-github",
        "colab_type": "text"
      },
      "source": [
        "<a href=\"https://colab.research.google.com/github/veranika-izrailyan/pythonic-programming/blob/main/practice.ipynb\" target=\"_parent\"><img src=\"https://colab.research.google.com/assets/colab-badge.svg\" alt=\"Open In Colab\"/></a>"
      ]
    },
    {
      "cell_type": "code",
      "execution_count": 1,
      "metadata": {
        "colab": {
          "base_uri": "https://localhost:8080/"
        },
        "id": "NnzOfR1W6Qny",
        "outputId": "cd084502-8435-4c9a-d169-f9c04a4c05e8"
      },
      "outputs": [
        {
          "output_type": "stream",
          "name": "stdout",
          "text": [
            "Give amount: 5\n",
            "[0, 1, 1, 2, 3]\n"
          ]
        }
      ],
      "source": [
        "a = int(input('Give amount: '))\n",
        "\n",
        "def fib(n):\n",
        "    a, b = 0, 1\n",
        "    for _ in range(n):\n",
        "        yield a\n",
        "        a, b = b, a + b\n",
        "\n",
        "print(list(fib(a)))"
      ]
    },
    {
      "cell_type": "code",
      "source": [
        "#CODE: Create a Generator Function that implements and yields the Fibonacci sequence\n",
        "def fibonacci(max):\n",
        "  a, b = 0, 1\n",
        "  while a <max:\n",
        "    yield a\n",
        "    a, b = b, a+b\n",
        "\n",
        "#Iterate over the fibonacci generator function\n",
        "numbers = 50\n",
        "for num in fibonacci(numbers):\n",
        "  print(num)"
      ],
      "metadata": {
        "colab": {
          "base_uri": "https://localhost:8080/"
        },
        "id": "wto3CMJvJGP8",
        "outputId": "109eca80-cd78-41d4-f795-a04b860ba961"
      },
      "execution_count": 2,
      "outputs": [
        {
          "output_type": "stream",
          "name": "stdout",
          "text": [
            "0\n",
            "1\n",
            "1\n",
            "2\n",
            "3\n",
            "5\n",
            "8\n",
            "13\n",
            "21\n",
            "34\n"
          ]
        }
      ]
    },
    {
      "cell_type": "code",
      "source": [
        "#CODE1: Create a list with various elements and then define a list comprehension that filters on it\n",
        "randomChars = ['a', 0, -3, 10, 4, 'p', '>', 7]\n",
        "squaresList = [ x**2 for x in randomChars if type(x) == int ]\n",
        "print(squaresList)"
      ],
      "metadata": {
        "colab": {
          "base_uri": "https://localhost:8080/"
        },
        "id": "zTb6VjP2HAbN",
        "outputId": "b95d7a4e-9d25-48e8-8d7b-bb43799ac7b1"
      },
      "execution_count": 3,
      "outputs": [
        {
          "output_type": "stream",
          "name": "stdout",
          "text": [
            "[0, 9, 100, 16, 49]\n"
          ]
        }
      ]
    },
    {
      "cell_type": "code",
      "source": [
        "#CODE2: Create a list with various animal names and then define a set comprehension that filters on it\n",
        "animalsList = [ 'whale', 'TIGER', 'lion', 'lion', 'X', 'ELEPHANT', 'cheetah', 'cat', 'DOG', 'W' ]\n",
        "animalsSet = { animal[0].upper() + animal[1:].lower() for animal in animalsList if len(animal) > 1 }\n",
        "print(animalsSet)"
      ],
      "metadata": {
        "colab": {
          "base_uri": "https://localhost:8080/"
        },
        "id": "FcRyM0E9HFzI",
        "outputId": "b83b0d45-08ff-4631-a25f-65611819cd33"
      },
      "execution_count": 4,
      "outputs": [
        {
          "output_type": "stream",
          "name": "stdout",
          "text": [
            "{'Dog', 'Tiger', 'Cheetah', 'Elephant', 'Lion', 'Whale', 'Cat'}\n"
          ]
        }
      ]
    },
    {
      "cell_type": "code",
      "source": [
        "#CODE3: Create a dict of square roots and then iterate of the items printing out each key-value pair\n",
        "squareRoots = {x : x**0.5 for x in range(1,20)}\n",
        "for idx, squareRoot in squareRoots.items():\n",
        "  print(f'{idx}->{squareRoot:.3f}')"
      ],
      "metadata": {
        "colab": {
          "base_uri": "https://localhost:8080/"
        },
        "id": "98IuORp_HLlE",
        "outputId": "72c292e1-2d2b-42d0-a521-fecfdb4ada37"
      },
      "execution_count": 5,
      "outputs": [
        {
          "output_type": "stream",
          "name": "stdout",
          "text": [
            "1->1.000\n",
            "2->1.414\n",
            "3->1.732\n",
            "4->2.000\n",
            "5->2.236\n",
            "6->2.449\n",
            "7->2.646\n",
            "8->2.828\n",
            "9->3.000\n",
            "10->3.162\n",
            "11->3.317\n",
            "12->3.464\n",
            "13->3.606\n",
            "14->3.742\n",
            "15->3.873\n",
            "16->4.000\n",
            "17->4.123\n",
            "18->4.243\n",
            "19->4.359\n"
          ]
        }
      ]
    },
    {
      "cell_type": "code",
      "source": [
        "#CODE4: Use Generator Expressions to discover sum, min, and max of the square roots of a random list of numbers\n",
        "import random\n",
        "numbers = random.sample(range(1, 100), 20)\n",
        "sumNumbers = sum(n**0.5 for n in numbers)\n",
        "minNumbers = min(n**0.5 for n in numbers)\n",
        "maxNumbers = max(n**0.5 for n in numbers)"
      ],
      "metadata": {
        "id": "oC5I5GayJrYY"
      },
      "execution_count": 6,
      "outputs": []
    },
    {
      "cell_type": "code",
      "source": [
        "#CODE5: Use f-string to format sum, min, and max\n",
        "print(f\"sum={sumNumbers} min={minNumbers} max={maxNumbers}\")"
      ],
      "metadata": {
        "colab": {
          "base_uri": "https://localhost:8080/"
        },
        "id": "Qn2Klt3vJ980",
        "outputId": "f3183c8d-4e65-4f7b-b0b6-4442b460df8f"
      },
      "execution_count": 7,
      "outputs": [
        {
          "output_type": "stream",
          "name": "stdout",
          "text": [
            "sum=134.82202400345074 min=2.6457513110645907 max=9.9498743710662\n"
          ]
        }
      ]
    },
    {
      "cell_type": "code",
      "source": [
        "#CODE6: Use Lambda and Map to double numbers in a list\n",
        "numbers = [1, 4, 6, 7, 9, 1, 43, 2, 2]\n",
        "doubledMap = map(lambda x : x*2, numbers)\n",
        "print(list(doubledMap))"
      ],
      "metadata": {
        "colab": {
          "base_uri": "https://localhost:8080/"
        },
        "id": "KRiFGxlqK5HI",
        "outputId": "6ad1f920-2bfe-47ca-a473-e9a89861ba5f"
      },
      "execution_count": 8,
      "outputs": [
        {
          "output_type": "stream",
          "name": "stdout",
          "text": [
            "[2, 8, 12, 14, 18, 2, 86, 4, 4]\n"
          ]
        }
      ]
    },
    {
      "cell_type": "code",
      "source": [
        "#CODE7: Use Lambda and Filter to split list of numbers into odds and evens\n",
        "numbers = [0, 24, 3, 7, 5, 2, 634, 26, 8, 33, 333, 100]\n",
        "odds = filter(lambda x : x % 2 != 0, numbers)\n",
        "evens = filter(lambda x : x % 2 == 0, numbers)\n",
        "print(list(odds))\n",
        "print(list(evens))"
      ],
      "metadata": {
        "colab": {
          "base_uri": "https://localhost:8080/"
        },
        "id": "U70wXEKfLJpW",
        "outputId": "16450c66-27df-4647-c4a0-2f42f3291bd9"
      },
      "execution_count": 9,
      "outputs": [
        {
          "output_type": "stream",
          "name": "stdout",
          "text": [
            "[3, 7, 5, 33, 333]\n",
            "[0, 24, 2, 634, 26, 8, 100]\n"
          ]
        }
      ]
    }
  ]
}